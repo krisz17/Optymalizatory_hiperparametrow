{
 "cells": [
  {
   "cell_type": "markdown",
   "id": "a5374e26-5631-4509-afd4-913379557f78",
   "metadata": {},
   "source": [
    "Przyglądniemy się danym oraz przetworzymy je tak żeby można było na nich modelować. Chodzi głównie o dane kategoryczne na których musimy dokonać kodowania"
   ]
  },
  {
   "cell_type": "code",
   "execution_count": 2,
   "id": "4cae127a-193a-4179-a88f-2d52e2310f75",
   "metadata": {},
   "outputs": [
    {
     "name": "stdout",
     "output_type": "stream",
     "text": [
      "(300000, 30)\n",
      "(200000, 30)\n",
      "(500000, 30)\n"
     ]
    }
   ],
   "source": [
    "import pandas as pd\n",
    "import numpy as np\n",
    "import os\n",
    "\n",
    "data_path = 'E:\\page ds\\pages\\Optymalizatory_hiperparametrow'\n",
    "data = pd.read_csv(os.path.join(data_path, \"train.csv\"))\n",
    "\n",
    "train = pd.read_csv(os.path.join(data_path, \"train.csv\"))\n",
    "test = pd.read_csv(os.path.join(data_path, \"test.csv\"))\n",
    "\n",
    "train_y = train['target']\n",
    "train_data = train.drop(columns=['id', 'target'])\n",
    "test_data = test.drop(columns=['id'])\n",
    "\n",
    "train_rows_len = train_data.shape[0]\n",
    "\n",
    "train_test_data = pd.concat([train_data, test_data])\n",
    "\n",
    "print(train_data.shape)\n",
    "print(test_data.shape)\n",
    "print(train_test_data.shape)"
   ]
  },
  {
   "cell_type": "code",
   "execution_count": null,
   "id": "99383a4a-1ae5-4d5c-ba4c-877366aebaf8",
   "metadata": {},
   "outputs": [],
   "source": []
  }
 ],
 "metadata": {
  "kernelspec": {
   "display_name": "OptHiper",
   "language": "python",
   "name": "opthiper"
  },
  "language_info": {
   "codemirror_mode": {
    "name": "ipython",
    "version": 3
   },
   "file_extension": ".py",
   "mimetype": "text/x-python",
   "name": "python",
   "nbconvert_exporter": "python",
   "pygments_lexer": "ipython3",
   "version": "3.9.7"
  }
 },
 "nbformat": 4,
 "nbformat_minor": 5
}
