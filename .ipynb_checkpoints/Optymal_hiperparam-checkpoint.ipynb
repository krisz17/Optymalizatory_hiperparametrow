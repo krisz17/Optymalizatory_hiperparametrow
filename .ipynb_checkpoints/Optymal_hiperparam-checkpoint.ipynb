{
 "cells": [
  {
   "cell_type": "markdown",
   "id": "d3ef98ec-5eb6-4fcc-899e-99fd27646408",
   "metadata": {},
   "source": [
    "W pierwszej kolejności pobieram dane"
   ]
  },
  {
   "cell_type": "code",
   "execution_count": 6,
   "id": "dc45bafe-513b-4b7a-a743-f6c492e579e3",
   "metadata": {},
   "outputs": [],
   "source": [
    "import os \n",
    "import numpy as np\n",
    "import pandas as pd\n",
    "\n",
    "data_path = 'E:\\page ds\\pages\\Optymalizatory_hiperparametrow'\n",
    "\n",
    "data = pd.read_csv(os.path.join(data_path, \"train.csv\"))\n",
    "\n"
   ]
  },
  {
   "cell_type": "code",
   "execution_count": 12,
   "id": "a2751436-362a-4616-9339-708fc1d2b573",
   "metadata": {},
   "outputs": [
    {
     "data": {
      "text/plain": [
       "<bound method DataFrame.info of             id cat0 cat1 cat2 cat3 cat4 cat5 cat6 cat7 cat8  ...     cont2  \\\n",
       "0            0    A    I    A    B    B   BI    A    S    Q  ...  0.759439   \n",
       "1            1    A    I    A    A    E   BI    K    W   AD  ...  0.386385   \n",
       "2            2    A    K    A    A    E   BI    A    E   BM  ...  0.343255   \n",
       "3            3    A    K    A    C    E   BI    A    Y   AD  ...  0.831147   \n",
       "4            4    A    I    G    B    E   BI    C    G    Q  ...  0.338818   \n",
       "...        ...  ...  ...  ...  ...  ...  ...  ...  ...  ...  ...       ...   \n",
       "299995  499993    A    N    F    A    E   BU    A   AS    K  ...  0.662428   \n",
       "299996  499995    A    K    A    A    G   BI    A    K   AE  ...  0.821657   \n",
       "299997  499996    A    G    M    A    H   BI    C    L    F  ...  0.407037   \n",
       "299998  499997    B    H    A    D    B   BI    A   AA   AX  ...  0.808045   \n",
       "299999  499999    A    F    C    A    E   BI    C   AV    S  ...  0.775451   \n",
       "\n",
       "           cont3     cont4     cont5     cont6     cont7     cont8     cont9  \\\n",
       "0       0.795549  0.681917  0.621672  0.592184  0.791921  0.815254  0.965006   \n",
       "1       0.541366  0.388982  0.357778  0.600044  0.408701  0.399353  0.927406   \n",
       "2       0.616352  0.793687  0.552877  0.352113  0.388835  0.412303  0.292696   \n",
       "3       0.807807  0.800032  0.619147  0.221789  0.897617  0.633669  0.760318   \n",
       "4       0.277308  0.610578  0.128291  0.578764  0.279167  0.351103  0.357084   \n",
       "...          ...       ...       ...       ...       ...       ...       ...   \n",
       "299995  0.671927  0.390566  0.145840  0.262767  0.514248  0.519340  0.617436   \n",
       "299996  0.620356  0.384891  0.735879  0.547731  0.726653  0.470575  0.275743   \n",
       "299997  0.232436  0.832482  0.810663  0.596939  0.308821  0.373997  0.518024   \n",
       "299998  0.630708  0.346898  0.735147  0.563488  0.609836  0.680430  0.318453   \n",
       "299999  0.848696  0.819377  0.355467  0.218153  0.968856  0.823655  0.330515   \n",
       "\n",
       "          cont10 target  \n",
       "0       0.665915      0  \n",
       "1       0.493729      0  \n",
       "2       0.549452      0  \n",
       "3       0.934242      0  \n",
       "4       0.328960      1  \n",
       "...          ...    ...  \n",
       "299995  0.688007      0  \n",
       "299996  0.638939      0  \n",
       "299997  0.452144      1  \n",
       "299998  0.335822      0  \n",
       "299999  0.972569      0  \n",
       "\n",
       "[300000 rows x 32 columns]>"
      ]
     },
     "execution_count": 12,
     "metadata": {},
     "output_type": "execute_result"
    }
   ],
   "source": [
    "data.info"
   ]
  }
 ],
 "metadata": {
  "kernelspec": {
   "display_name": "Python 3 (ipykernel)",
   "language": "python",
   "name": "python3"
  },
  "language_info": {
   "codemirror_mode": {
    "name": "ipython",
    "version": 3
   },
   "file_extension": ".py",
   "mimetype": "text/x-python",
   "name": "python",
   "nbconvert_exporter": "python",
   "pygments_lexer": "ipython3",
   "version": "3.9.7"
  }
 },
 "nbformat": 4,
 "nbformat_minor": 5
}
